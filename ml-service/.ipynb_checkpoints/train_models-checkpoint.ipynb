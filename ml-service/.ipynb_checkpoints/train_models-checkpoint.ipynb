{
 "cells": [
  {
   "cell_type": "markdown",
   "id": "a451d34e",
   "metadata": {},
   "source": [
    "# ML Model Training for AgriTrace\n",
    "\n",
    "This notebook demonstrates how to train and save models for price prediction (regression) and quality anomaly detection (classification) using scikit-learn."
   ]
  },
  {
   "cell_type": "markdown",
   "id": "283ac41f",
   "metadata": {},
   "source": [
    "## 1. Import Required Libraries\n",
    "Import pandas, numpy, scikit-learn, and joblib for model training and saving."
   ]
  },
  {
   "cell_type": "code",
   "execution_count": null,
   "id": "f64b9385",
   "metadata": {},
   "outputs": [],
   "source": [
    "import pandas as pd\n",
    "import numpy as np\n",
    "from sklearn.linear_model import LinearRegression, LogisticRegression\n",
    "from sklearn.model_selection import train_test_split\n",
    "from sklearn.metrics import mean_squared_error, accuracy_score\n",
    "import joblib"
   ]
  },
  {
   "cell_type": "markdown",
   "id": "7b18dc45",
   "metadata": {},
   "source": [
    "## 2. Load or Create Sample Data\n",
    "For demonstration, we will create synthetic data. Replace this with your real data for production use."
   ]
  },
  {
   "cell_type": "code",
   "execution_count": null,
   "id": "e817ce38",
   "metadata": {},
   "outputs": [],
   "source": [
    "# Synthetic data for price prediction (regression)\n",
    "np.random.seed(42)\n",
    "X_price = np.random.rand(100, 3)  # 3 features\n",
    "price = 10 + 5 * X_price[:, 0] + 2 * X_price[:, 1] - 3 * X_price[:, 2] + np.random.randn(100)\n",
    "\n",
    "# Synthetic data for quality anomaly detection (classification)\n",
    "X_quality = np.random.rand(100, 3)\n",
    "quality_anomaly = (X_quality[:, 0] + X_quality[:, 1] - X_quality[:, 2] + np.random.randn(100) > 1.0).astype(int)\n"
   ]
  },
  {
   "cell_type": "markdown",
   "id": "08b55096",
   "metadata": {},
   "source": [
    "## 3. Train Price Prediction Model (Regression)\n",
    "Train a simple linear regression model for price prediction."
   ]
  },
  {
   "cell_type": "code",
   "execution_count": null,
   "id": "3aa43428",
   "metadata": {},
   "outputs": [],
   "source": [
    "X_train, X_test, y_train, y_test = train_test_split(X_price, price, test_size=0.2, random_state=42)\n",
    "reg = LinearRegression()\n",
    "reg.fit(X_train, y_train)\n",
    "price_pred = reg.predict(X_test)\n",
    "print(\"Price RMSE:\", np.sqrt(mean_squared_error(y_test, price_pred)))"
   ]
  },
  {
   "cell_type": "markdown",
   "id": "a34374f0",
   "metadata": {},
   "source": [
    "## 4. Train Quality Anomaly Detection Model (Classification)\n",
    "Train a logistic regression model for anomaly detection."
   ]
  },
  {
   "cell_type": "code",
   "execution_count": null,
   "id": "f11acf5f",
   "metadata": {},
   "outputs": [],
   "source": [
    "Xq_train, Xq_test, yq_train, yq_test = train_test_split(X_quality, quality_anomaly, test_size=0.2, random_state=42)\n",
    "clf = LogisticRegression()\n",
    "clf.fit(Xq_train, yq_train)\n",
    "quality_pred = clf.predict(Xq_test)\n",
    "print(\"Quality Anomaly Accuracy:\", accuracy_score(yq_test, quality_pred))"
   ]
  },
  {
   "cell_type": "markdown",
   "id": "1313e76c",
   "metadata": {},
   "source": [
    "## 5. Save Trained Models\n",
    "Save the trained models as .pkl files for use in the FastAPI service."
   ]
  },
  {
   "cell_type": "code",
   "execution_count": null,
   "id": "30178db3",
   "metadata": {},
   "outputs": [],
   "source": [
    "joblib.dump(reg, \"price_model.pkl\")\n",
    "joblib.dump(clf, \"quality_model.pkl\")\n",
    "print(\"Models saved as price_model.pkl and quality_model.pkl\")"
   ]
  }
 ],
 "metadata": {
  "language_info": {
   "name": "python"
  }
 },
 "nbformat": 4,
 "nbformat_minor": 5
}
